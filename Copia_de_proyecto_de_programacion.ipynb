{
  "nbformat": 4,
  "nbformat_minor": 0,
  "metadata": {
    "colab": {
      "provenance": [],
      "toc_visible": true
    },
    "kernelspec": {
      "name": "python3",
      "display_name": "Python 3"
    },
    "language_info": {
      "name": "python"
    }
  },
  "cells": [
    {
      "cell_type": "code",
      "execution_count": null,
      "metadata": {
        "id": "RMuraB8nK8iN"
      },
      "outputs": [],
      "source": [
        "##El código necesita un login\n",
        "usuario=input(\"Ingrese su usuario: \")\n",
        "password=input(\"Ingrese su contraseña: \")\n",
        "##Se verifican los datos en un db. Luego se comparan los ingresados con los de db, suponiendo:\n",
        "usuarioreal=\"sidt2\"\n",
        "passwordreal=\"miherramienta\"\n",
        "def mostrar_mensaje():\n",
        "  print(\"Gracias por usar nuestro servicio.\")\n",
        "def generar_opciones():\n",
        "  print(\"1) Revisar la calidad actual del aire\")\n",
        "  print(\"2) Información de protección del aire\")\n",
        "  print(\"3) Opiniones y comentarios\")\n",
        "  print(\"4) Valida tus conocimientos\")\n",
        "  print(\"5) Salir\")\n",
        "  opcion=int(input(\"\"))\n",
        "  if opcion==1:\n",
        "    print(\"En esta sección encontramos información del aire en tiempo real\")\n",
        "    print(\"1)Continuar  2)Menú principal  3)Salir\")\n",
        "    seleccion=int(input(\"\"))\n",
        "    if seleccion==2:\n",
        "      generar_opciones()\n",
        "    else:\n",
        "      if seleccion==3:\n",
        "        mostrar_mensaje()\n",
        "  else:\n",
        "    if opcion==2:\n",
        "      print(\"En esta sección hay información de como protegerse del aire\")\n",
        "      print(\"1)Continuar  2)Menú principal  3)Salir\")\n",
        "      seleccion=int(input(\"\"))\n",
        "      if seleccion==2:\n",
        "        generar_opciones()\n",
        "      else:\n",
        "        if seleccion==3:\n",
        "          mostrar_mensaje()\n",
        "    else:\n",
        "      if opcion==3:\n",
        "        print(\"En esta sección puedes guardar comentarios y opiniones\")\n",
        "        print(\"1)Continuar  2)Menú principal  3)Salir\")\n",
        "        seleccion=int(input(\"\"))\n",
        "        if seleccion==2:\n",
        "          generar_opciones()\n",
        "        else:\n",
        "          if seleccion==3:\n",
        "            mostrar_mensaje()\n",
        "      else:\n",
        "        if(opcion==4):\n",
        "          print(\"En esta sección puedes evaluar tus conocimientos\")\n",
        "          print(\"1)Continuar  2)Menú principal  3)Salir\")\n",
        "          seleccion=int(input(\"\"))\n",
        "          if seleccion==2:\n",
        "            generar_opciones()\n",
        "          else:\n",
        "            if seleccion==3:\n",
        "              mostrar_mensaje()\n",
        "        else:\n",
        "          if(opcion==5):\n",
        "            mostrar_mensaje()\n",
        "if usuario==usuarioreal and password==passwordreal:\n",
        "  generar_opciones()\n"
      ]
    },
    {
      "cell_type": "code",
      "source": [],
      "metadata": {
        "id": "EntpaDu9DIl7"
      },
      "execution_count": null,
      "outputs": []
    },
    {
      "cell_type": "code",
      "source": [],
      "metadata": {
        "id": "ivoov2fqDYQ9"
      },
      "execution_count": null,
      "outputs": []
    }
  ]
}